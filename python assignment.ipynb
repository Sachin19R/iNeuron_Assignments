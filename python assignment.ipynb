{
 "cells": [
  {
   "cell_type": "markdown",
   "id": "e6d845fe",
   "metadata": {},
   "source": [
    "# Python - Assignment"
   ]
  },
  {
   "cell_type": "markdown",
   "id": "9946b02d",
   "metadata": {},
   "source": [
    "## List_remove_append\n",
    "\n",
    "Description: Remove SPSS from input_list=['SAS', 'R', 'PYTHON', 'SPSS'] and add 'SPARK' in its place."
   ]
  },
  {
   "cell_type": "code",
   "execution_count": 1,
   "id": "49eb6970",
   "metadata": {},
   "outputs": [],
   "source": [
    "input_list=['SAS', 'R', 'PYTHON', 'SPSS']"
   ]
  },
  {
   "cell_type": "code",
   "execution_count": 2,
   "id": "bc67cd7b",
   "metadata": {},
   "outputs": [
    {
     "data": {
      "text/plain": [
       "'SPSS'"
      ]
     },
     "execution_count": 2,
     "metadata": {},
     "output_type": "execute_result"
    }
   ],
   "source": [
    "input_list.pop()"
   ]
  },
  {
   "cell_type": "code",
   "execution_count": 3,
   "id": "df5be319",
   "metadata": {},
   "outputs": [],
   "source": [
    "input_list.append(\"SPARK\")"
   ]
  },
  {
   "cell_type": "code",
   "execution_count": 4,
   "id": "6184442e",
   "metadata": {},
   "outputs": [
    {
     "data": {
      "text/plain": [
       "['SAS', 'R', 'PYTHON', 'SPARK']"
      ]
     },
     "execution_count": 4,
     "metadata": {},
     "output_type": "execute_result"
    }
   ],
   "source": [
    "input_list"
   ]
  },
  {
   "cell_type": "markdown",
   "id": "d1cb2855",
   "metadata": {},
   "source": [
    "## String to List Conversion\n",
    "Description: Convert a string input_str = 'I love Data Science & Python' \n",
    "to a list by\n",
    "splitting it on ‘&’."
   ]
  },
  {
   "cell_type": "code",
   "execution_count": 5,
   "id": "000770c3",
   "metadata": {},
   "outputs": [],
   "source": [
    "input_str = 'I love Data Science & Python'"
   ]
  },
  {
   "cell_type": "code",
   "execution_count": 6,
   "id": "8f01120a",
   "metadata": {},
   "outputs": [
    {
     "data": {
      "text/plain": [
       "['I love Data Science ', ' Python']"
      ]
     },
     "execution_count": 6,
     "metadata": {},
     "output_type": "execute_result"
    }
   ],
   "source": [
    "input_str.split(\"&\")"
   ]
  },
  {
   "cell_type": "markdown",
   "id": "6a97f9dd",
   "metadata": {},
   "source": [
    "## List to String Conversion\n",
    "Description: Convert a list ['Pythons syntax is easy to learn', 'Pythons syntax is very\n",
    "clear'] to a string using ‘&’."
   ]
  },
  {
   "cell_type": "code",
   "execution_count": 7,
   "id": "2a49cf18",
   "metadata": {},
   "outputs": [],
   "source": [
    "lst=['Pythons syntax is easy to learn', 'Pythons syntax is very clear']"
   ]
  },
  {
   "cell_type": "code",
   "execution_count": 8,
   "id": "c8a3c8d1",
   "metadata": {},
   "outputs": [],
   "source": [
    "str=\" & \".join(lst)"
   ]
  },
  {
   "cell_type": "code",
   "execution_count": 9,
   "id": "cacbe9a9",
   "metadata": {},
   "outputs": [
    {
     "data": {
      "text/plain": [
       "'Pythons syntax is easy to learn & Pythons syntax is very clear'"
      ]
     },
     "execution_count": 9,
     "metadata": {},
     "output_type": "execute_result"
    }
   ],
   "source": [
    "str"
   ]
  },
  {
   "cell_type": "markdown",
   "id": "81c32e5c",
   "metadata": {},
   "source": [
    "## Nested List\n",
    "Description: Extract Python from a nested list\n",
    "input_list = [['SAS','R'],['Tableau','SQL'],['Python','Java']]"
   ]
  },
  {
   "cell_type": "code",
   "execution_count": 10,
   "id": "bb7af03c",
   "metadata": {},
   "outputs": [],
   "source": [
    "input_list = [['SAS','R'],['Tableau','SQL'],['Python','Java']]"
   ]
  },
  {
   "cell_type": "code",
   "execution_count": 11,
   "id": "a60398d0",
   "metadata": {},
   "outputs": [
    {
     "data": {
      "text/plain": [
       "'Python'"
      ]
     },
     "execution_count": 11,
     "metadata": {},
     "output_type": "execute_result"
    }
   ],
   "source": [
    "input_list[2][0]"
   ]
  },
  {
   "cell_type": "markdown",
   "id": "c0b6e980",
   "metadata": {},
   "source": [
    "## It’s the time to disco\n",
    "Description: t = (\"disco\", 12, 4.5)\n",
    "What is the output of: t[0][2]"
   ]
  },
  {
   "cell_type": "code",
   "execution_count": 12,
   "id": "3662b513",
   "metadata": {},
   "outputs": [],
   "source": [
    "t = (\"disco\", 12, 4.5)"
   ]
  },
  {
   "cell_type": "code",
   "execution_count": 13,
   "id": "56033dba",
   "metadata": {},
   "outputs": [
    {
     "data": {
      "text/plain": [
       "'s'"
      ]
     },
     "execution_count": 13,
     "metadata": {},
     "output_type": "execute_result"
    }
   ],
   "source": [
    "t[0][2]"
   ]
  },
  {
   "cell_type": "markdown",
   "id": "1c3ee5bb",
   "metadata": {},
   "source": [
    "## String Palindrome\n",
    "Description: Write a program to check whether a string is a palindrome or not. Print 1 if\n",
    "the string is a palindrome and 0 otherwise.\n",
    "['I love Data Science ', ' Python']\n",
    "\n",
    "Input: Any string\n",
    "Output: 1 if the string is palindrome, 0 otherwise."
   ]
  },
  {
   "cell_type": "code",
   "execution_count": 14,
   "id": "116ad709",
   "metadata": {},
   "outputs": [],
   "source": [
    "def palindrome(string:str):\n",
    "    if string==string[::-1]:\n",
    "        return 1\n",
    "    else :\n",
    "        return 0"
   ]
  },
  {
   "cell_type": "code",
   "execution_count": 15,
   "id": "26a02a44",
   "metadata": {},
   "outputs": [
    {
     "data": {
      "text/plain": [
       "0"
      ]
     },
     "execution_count": 15,
     "metadata": {},
     "output_type": "execute_result"
    }
   ],
   "source": [
    "palindrome('sachin')"
   ]
  },
  {
   "cell_type": "code",
   "execution_count": 16,
   "id": "57a4a839",
   "metadata": {},
   "outputs": [
    {
     "data": {
      "text/plain": [
       "1"
      ]
     },
     "execution_count": 16,
     "metadata": {},
     "output_type": "execute_result"
    }
   ],
   "source": [
    "palindrome(\"level\")"
   ]
  },
  {
   "cell_type": "markdown",
   "id": "f78d705d",
   "metadata": {},
   "source": [
    "## Reverse Words\n",
    "Description: You will be given a sentence in the form of a string. You have to reverse the\n",
    "order of the words in the sentence. Remember not to reverse the individual words, but\n",
    "the order of words. Check the sample input-output for further clarification.\n",
    "Input: A string, which will consist of a few spaces.\n",
    "Output: The words in reverse order"
   ]
  },
  {
   "cell_type": "code",
   "execution_count": 17,
   "id": "1399eb54",
   "metadata": {},
   "outputs": [],
   "source": [
    "str =\"You will be given a sentence in the form of a string\""
   ]
  },
  {
   "cell_type": "code",
   "execution_count": 18,
   "id": "5f7142ed",
   "metadata": {},
   "outputs": [],
   "source": [
    "list_str = str.split(\" \")\n",
    "new_lst=[]\n",
    "for word in list_str[::-1]:\n",
    "    new_lst.append(word)"
   ]
  },
  {
   "cell_type": "code",
   "execution_count": 19,
   "id": "f99de7ef",
   "metadata": {},
   "outputs": [
    {
     "name": "stdout",
     "output_type": "stream",
     "text": [
      "string a of form the in sentence a given be will You\n"
     ]
    }
   ],
   "source": [
    "print(\" \".join(new_lst))"
   ]
  },
  {
   "cell_type": "markdown",
   "id": "bc82ca9d",
   "metadata": {},
   "source": [
    "## String Formatting\n",
    "Description: Write a program that satisfies below examples\n",
    "Input 1: caloRie ConsuMed\n",
    "Output 1: calorie_consumed\n",
    "Input 2: data science\n",
    "Output 2: data_science\n",
    "Input 3: datascience\n",
    "Output 3: datascience"
   ]
  },
  {
   "cell_type": "code",
   "execution_count": 20,
   "id": "6d6e4316",
   "metadata": {},
   "outputs": [],
   "source": [
    "def snake_casing(string:str):\n",
    "    lower_case_str=string.lower()\n",
    "    remove_white_spaces= lower_case_str.split()\n",
    "    if len(remove_white_spaces)>1:\n",
    "        return (\"_\".join(remove_white_spaces))\n",
    "    else:\n",
    "        return (\"\".join(remove_white_spaces))"
   ]
  },
  {
   "cell_type": "code",
   "execution_count": 21,
   "id": "9064ccc7",
   "metadata": {},
   "outputs": [
    {
     "data": {
      "text/plain": [
       "'calorie_consumed'"
      ]
     },
     "execution_count": 21,
     "metadata": {},
     "output_type": "execute_result"
    }
   ],
   "source": [
    "snake_casing(\"caloRie ConsuMed\")"
   ]
  },
  {
   "cell_type": "code",
   "execution_count": 22,
   "id": "4e18c08c",
   "metadata": {},
   "outputs": [
    {
     "data": {
      "text/plain": [
       "'data_science'"
      ]
     },
     "execution_count": 22,
     "metadata": {},
     "output_type": "execute_result"
    }
   ],
   "source": [
    "snake_casing(\"data science\")"
   ]
  },
  {
   "cell_type": "code",
   "execution_count": 23,
   "id": "8746657e",
   "metadata": {},
   "outputs": [
    {
     "data": {
      "text/plain": [
       "'datascience'"
      ]
     },
     "execution_count": 23,
     "metadata": {},
     "output_type": "execute_result"
    }
   ],
   "source": [
    "snake_casing(\"datascience\")"
   ]
  },
  {
   "cell_type": "markdown",
   "id": "0251eb74",
   "metadata": {},
   "source": [
    "# Multiple Choice Questions\n",
    "## 1. How will you extract ‘love’ from the string S = “I love Python”? (More than one\n",
    "option may be correct.).\n",
    "a. S[2:5]\n",
    "b. S[2:6]\n",
    "c. S[3:7]\n",
    "d. S[-11:-7]\n",
    "e. S[-11:-8]"
   ]
  },
  {
   "cell_type": "markdown",
   "id": "f33251ef",
   "metadata": {},
   "source": [
    "##### b. S[2:6]"
   ]
  },
  {
   "cell_type": "markdown",
   "id": "f3ac2883",
   "metadata": {},
   "source": [
    "## 2. What will the output of 3 * 3 ** 3 be?\n",
    "a. 9\n",
    "b. 27\n",
    "c. 81\n",
    "d. 729"
   ]
  },
  {
   "cell_type": "markdown",
   "id": "b481fc15",
   "metadata": {},
   "source": [
    "##### c.81"
   ]
  },
  {
   "cell_type": "markdown",
   "id": "3cf2b68d",
   "metadata": {},
   "source": [
    "## 3. What will the output be of ((500//7) % 5) ** 3?\n",
    "a. 1\n",
    "b. 2.91\n",
    "c. 71.42\n",
    "d. 0\n",
    "e. 8"
   ]
  },
  {
   "cell_type": "markdown",
   "id": "2c1e7af3",
   "metadata": {},
   "source": [
    "##### a.1"
   ]
  },
  {
   "cell_type": "markdown",
   "id": "d71aaf28",
   "metadata": {},
   "source": [
    "## 4. If you have a tuple T = (3, 5, 7, 11), what will the output of T.append(9) be?\n",
    "a. (3, 5, 7, 9, 11)\n",
    "b. (9, 3, 5, 7, 11)\n",
    "c. (3, 5, 7, 11, 9)\n",
    "d. Error"
   ]
  },
  {
   "cell_type": "markdown",
   "id": "b1d393da",
   "metadata": {},
   "source": [
    "#### d.Error"
   ]
  },
  {
   "cell_type": "markdown",
   "id": "13dcd929",
   "metadata": {},
   "source": [
    "## 5. What will the output of the following program be?\n",
    "a. Vikas\n",
    "b. Mahima\n",
    "c. y\n",
    "d. A"
   ]
  },
  {
   "cell_type": "markdown",
   "id": "59f21d9b",
   "metadata": {},
   "source": [
    "##### no program is given in pdf"
   ]
  },
  {
   "cell_type": "markdown",
   "id": "78e19024",
   "metadata": {},
   "source": [
    "## 6. What will the output of the following code be?\n",
    "1 = [32, 34, 12, 27, 33]\n",
    "l.append((l4, 19))\n",
    "print(len(l))\n",
    "a. 5\n",
    "b. 6\n",
    "c. 7\n",
    "d. The code will throw an error"
   ]
  },
  {
   "cell_type": "markdown",
   "id": "03f45a02",
   "metadata": {},
   "source": [
    "#### d. The code will throw an error because variable name is starting with an integer"
   ]
  },
  {
   "cell_type": "markdown",
   "id": "03eb4d4e",
   "metadata": {},
   "source": [
    "## 7. Which of the following statements is incorrect regarding sets in Python?\n",
    "a. Sets do not contain duplicate elements\n",
    "b. Sets are represented using curly braces {}\n",
    "c. Sets are immutable\n",
    "d. All of the above"
   ]
  },
  {
   "cell_type": "markdown",
   "id": "0438d970",
   "metadata": {},
   "source": [
    "#### all of the above are correct so quesstion is framed wrong i guess"
   ]
  },
  {
   "cell_type": "markdown",
   "id": "66996974",
   "metadata": {},
   "source": [
    "## 8. What will the output be of the following code?\n",
    "\n",
    "D = {l:('Raj', 22), 2:('Simran', 21), 3:['Rahul', 40]}\n",
    "for val in D:\n",
    "print(val)\n",
    "\n",
    "a. 1\n",
    "2\n",
    "3\n",
    "b. [‘Raj’, 22]\n",
    "[‘Simran’, 21]\n",
    "[‘Rahul’, 40]\n",
    "c. 1 [‘Raj’, 22]\n",
    "2 [‘Simran’, 21]\n",
    "3 [‘Rahul’, 40]\n",
    "d. ‘Raj’\n",
    "‘Simran’\n",
    "‘Rahul’"
   ]
  },
  {
   "cell_type": "markdown",
   "id": "a6d2633f",
   "metadata": {},
   "source": [
    "#### a.1 2 3"
   ]
  },
  {
   "cell_type": "markdown",
   "id": "86fa3aa8",
   "metadata": {},
   "source": [
    "## 9. What will the ‘comprehension equivalent’ be for the following snippet of code?\n",
    " for sentence in paragraph:\n",
    "     for word in sentence.split():\n",
    "         single_word_list.append(word)\n",
    " \n",
    " \n",
    "a. word for sentence in paragraph for word in sentence.split()\n",
    "b. [word for sentence in paragraph for word in sentence.split()]\n",
    "c. word for word in sentence.split() for sentence in paragraph\n",
    "d. [word for word in sentence.split() for sentence in paragraph]"
   ]
  },
  {
   "cell_type": "markdown",
   "id": "1a30afac",
   "metadata": {},
   "source": [
    "##### b."
   ]
  },
  {
   "cell_type": "markdown",
   "id": "8f8d6720",
   "metadata": {},
   "source": [
    "##  10.What will be the output of this code?\n",
    "\n",
    "print(list(range(l0, 1, -1)))\n",
    "                 \n",
    "a. [10, 9, 8, 7, 6, 5, 4, 3, 2, 1]\n",
    "b. [9, 8, 7, 6, 5, 4, 3, 2]\n",
    "c. [9, 8, 7, 6, 5, 4, 3, 2, 1]\n",
    "d. [10, 9, 8, 7, 6, 5, 4, 3, 2]\n",
    "\n"
   ]
  },
  {
   "cell_type": "markdown",
   "id": "223e947b",
   "metadata": {},
   "source": [
    "#### d.[10, 9, 8, 7, 6, 5, 4, 3, 2]"
   ]
  },
  {
   "cell_type": "code",
   "execution_count": null,
   "id": "4853250f",
   "metadata": {},
   "outputs": [],
   "source": []
  },
  {
   "cell_type": "code",
   "execution_count": null,
   "id": "864c386e",
   "metadata": {},
   "outputs": [],
   "source": []
  }
 ],
 "metadata": {
  "kernelspec": {
   "display_name": "Python 3 (ipykernel)",
   "language": "python",
   "name": "python3"
  },
  "language_info": {
   "codemirror_mode": {
    "name": "ipython",
    "version": 3
   },
   "file_extension": ".py",
   "mimetype": "text/x-python",
   "name": "python",
   "nbconvert_exporter": "python",
   "pygments_lexer": "ipython3",
   "version": "3.9.12"
  }
 },
 "nbformat": 4,
 "nbformat_minor": 5
}
